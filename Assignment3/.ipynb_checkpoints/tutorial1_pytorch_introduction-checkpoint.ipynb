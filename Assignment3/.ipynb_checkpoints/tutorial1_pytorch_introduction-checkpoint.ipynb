{
 "cells": [
  {
   "cell_type": "code",
   "execution_count": null,
   "metadata": {
    "id": "rcdw-Byt4dEs",
    "is_executing": true
   },
   "outputs": [],
   "source": [
    "%matplotlib inline"
   ]
  },
  {
   "cell_type": "markdown",
   "metadata": {
    "id": "BjzxV3Xw4dEx"
   },
   "source": [
    "\n",
    "Tensors\n",
    "--------------------------------------------\n",
    "\n",
    "Tensors are a specialized data structure that are very similar to arrays\n",
    "and matrices. In PyTorch, we use tensors to encode the inputs and\n",
    "outputs of a model, as well as the model’s parameters.\n",
    "\n",
    "Tensors are similar to NumPy’s ndarrays, except that tensors can run on\n",
    "GPUs or other specialized hardware to accelerate computing. If you’re familiar with ndarrays, you’ll\n",
    "be right at home with the Tensor API. If not, follow along in this quick\n",
    "API walkthrough.\n",
    "\n",
    "\n"
   ]
  },
  {
   "cell_type": "code",
   "execution_count": 2,
   "metadata": {
    "id": "CQjiBuSU4dEy"
   },
   "outputs": [],
   "source": [
    "import torch\n",
    "import numpy as np"
   ]
  },
  {
   "cell_type": "markdown",
   "metadata": {
    "id": "Ry_GqU_K4dEy"
   },
   "source": [
    "Tensor Initialization\n",
    "~~~~~~~~~~~~~~~~~~~~~\n",
    "\n",
    "Tensors can be initialized in various ways. Take a look at the following examples:\n",
    "\n",
    "**Directly from data**\n",
    "\n",
    "Tensors can be created directly from data. The data type is automatically inferred.\n",
    "\n"
   ]
  },
  {
   "cell_type": "code",
   "execution_count": 3,
   "metadata": {
    "colab": {
     "base_uri": "https://localhost:8080/"
    },
    "id": "UEzvdsMN4dEy",
    "outputId": "ee8aa2ef-ef3e-4931-8264-ec90f180b46d"
   },
   "outputs": [
    {
     "name": "stdout",
     "output_type": "stream",
     "text": [
      "tensor([[1, 2, 3],\n",
      "        [3, 4, 6]])\n",
      "torch.int64\n",
      "2\n",
      "torch.Size([2, 3])\n"
     ]
    }
   ],
   "source": [
    "data = [[1, 2, 3],\n",
    "        [3, 4, 6]]\n",
    "x_data = torch.tensor(data)\n",
    "print(x_data)\n",
    "print(x_data.dtype)\n",
    "print(len(x_data.size()))\n",
    "print(x_data.size())"
   ]
  },
  {
   "cell_type": "markdown",
   "metadata": {
    "id": "xTzI1fR24dEy"
   },
   "source": [
    "**From a NumPy array**\n",
    "\n",
    "Tensors can be created from NumPy arrays (and vice versa - see `bridge-to-np-label`).\n",
    "\n"
   ]
  },
  {
   "cell_type": "code",
   "execution_count": 4,
   "metadata": {
    "id": "nIL9FFrL4dEz"
   },
   "outputs": [],
   "source": [
    "np_array = np.array(data)\n",
    "x_np = torch.from_numpy(np_array)"
   ]
  },
  {
   "cell_type": "markdown",
   "metadata": {
    "id": "uBbOkWiW4dEz"
   },
   "source": [
    "**From another tensor:**\n",
    "\n",
    "The new tensor retains the properties (shape, datatype) of the argument tensor, unless explicitly overridden.\n",
    "\n"
   ]
  },
  {
   "cell_type": "code",
   "execution_count": 5,
   "metadata": {
    "colab": {
     "base_uri": "https://localhost:8080/",
     "height": 278
    },
    "id": "99s7eHDX4dEz",
    "outputId": "7345bb90-bdce-4ae3-9450-241457b48c4b"
   },
   "outputs": [
    {
     "name": "stdout",
     "output_type": "stream",
     "text": [
      "Ones Tensor: \n",
      " tensor([[1, 1, 1],\n",
      "        [1, 1, 1]]) \n",
      "\n",
      "Random Tensor: \n",
      " tensor([[0.5036, 0.2544, 0.9093],\n",
      "        [0.0121, 0.1312, 0.6903]]) \n",
      "\n"
     ]
    }
   ],
   "source": [
    "x_ones = torch.ones_like(x_data) # retains the properties of x_data\n",
    "print(f\"Ones Tensor: \\n {x_ones} \\n\")\n",
    "\n",
    "x_rand = torch.rand_like(x_data, dtype=torch.float) # overrides the datatype of x_data\n",
    "print(f\"Random Tensor: \\n {x_rand} \\n\")"
   ]
  },
  {
   "cell_type": "markdown",
   "metadata": {
    "id": "pW1c90d_4dEz"
   },
   "source": [
    "**With random or constant values:**\n",
    "\n",
    "``shape`` is a tuple of tensor dimensions. In the functions below, it determines the dimensionality of the output tensor.\n",
    "\n"
   ]
  },
  {
   "cell_type": "code",
   "execution_count": 6,
   "metadata": {
    "colab": {
     "base_uri": "https://localhost:8080/"
    },
    "id": "tHxuybBX4dE0",
    "outputId": "2765852a-c60c-47cc-9879-da338b868b81"
   },
   "outputs": [
    {
     "name": "stdout",
     "output_type": "stream",
     "text": [
      "Random Tensor: \n",
      " tensor([[[0.3575, 0.2785, 0.8405, 0.3440],\n",
      "         [0.1182, 0.6764, 0.5274, 0.8873],\n",
      "         [0.9930, 0.2570, 0.0994, 0.2007],\n",
      "         [0.8603, 0.8551, 0.8455, 0.1672],\n",
      "         [0.2192, 0.7814, 0.7565, 0.3964]],\n",
      "\n",
      "        [[0.0281, 0.0280, 0.3403, 0.5408],\n",
      "         [0.9552, 0.7155, 0.0186, 0.0738],\n",
      "         [0.0448, 0.0868, 0.8793, 0.6452],\n",
      "         [0.6111, 0.2345, 0.4228, 0.3576],\n",
      "         [0.7248, 0.4953, 0.1434, 0.9091]],\n",
      "\n",
      "        [[0.9600, 0.3786, 0.7686, 0.3199],\n",
      "         [0.4250, 0.9275, 0.7684, 0.0425],\n",
      "         [0.0681, 0.8850, 0.8022, 0.5429],\n",
      "         [0.8503, 0.8048, 0.7753, 0.1401],\n",
      "         [0.5825, 0.3635, 0.6572, 0.3469]]]) \n",
      "\n",
      "Ones Tensor: \n",
      " tensor([[[1., 1., 1., 1.],\n",
      "         [1., 1., 1., 1.],\n",
      "         [1., 1., 1., 1.],\n",
      "         [1., 1., 1., 1.],\n",
      "         [1., 1., 1., 1.]],\n",
      "\n",
      "        [[1., 1., 1., 1.],\n",
      "         [1., 1., 1., 1.],\n",
      "         [1., 1., 1., 1.],\n",
      "         [1., 1., 1., 1.],\n",
      "         [1., 1., 1., 1.]],\n",
      "\n",
      "        [[1., 1., 1., 1.],\n",
      "         [1., 1., 1., 1.],\n",
      "         [1., 1., 1., 1.],\n",
      "         [1., 1., 1., 1.],\n",
      "         [1., 1., 1., 1.]]]) \n",
      "\n",
      "Zeros Tensor: \n",
      " tensor([[[0., 0., 0., 0.],\n",
      "         [0., 0., 0., 0.],\n",
      "         [0., 0., 0., 0.],\n",
      "         [0., 0., 0., 0.],\n",
      "         [0., 0., 0., 0.]],\n",
      "\n",
      "        [[0., 0., 0., 0.],\n",
      "         [0., 0., 0., 0.],\n",
      "         [0., 0., 0., 0.],\n",
      "         [0., 0., 0., 0.],\n",
      "         [0., 0., 0., 0.]],\n",
      "\n",
      "        [[0., 0., 0., 0.],\n",
      "         [0., 0., 0., 0.],\n",
      "         [0., 0., 0., 0.],\n",
      "         [0., 0., 0., 0.],\n",
      "         [0., 0., 0., 0.]]])\n"
     ]
    }
   ],
   "source": [
    "# CHW\n",
    "\n",
    "shape = (3,5,4,)\n",
    "rand_tensor = torch.rand(shape)\n",
    "ones_tensor = torch.ones(shape)\n",
    "zeros_tensor = torch.zeros(shape)\n",
    "\n",
    "print(f\"Random Tensor: \\n {rand_tensor} \\n\")\n",
    "print(f\"Ones Tensor: \\n {ones_tensor} \\n\")\n",
    "print(f\"Zeros Tensor: \\n {zeros_tensor}\")"
   ]
  },
  {
   "cell_type": "markdown",
   "metadata": {
    "id": "B6rTNoeE4dE0"
   },
   "source": [
    "--------------\n",
    "\n",
    "\n"
   ]
  },
  {
   "cell_type": "markdown",
   "metadata": {
    "id": "i3VXRSLO4dE0"
   },
   "source": [
    "Tensor Attributes\n",
    "~~~~~~~~~~~~~~~~~\n",
    "\n",
    "Tensor attributes describe their shape, datatype, and the device on which they are stored.\n",
    "\n"
   ]
  },
  {
   "cell_type": "code",
   "execution_count": 7,
   "metadata": {
    "colab": {
     "base_uri": "https://localhost:8080/"
    },
    "id": "1iLki8Ib4dE0",
    "outputId": "af99ffe2-b9dd-43d9-e6dc-5d4562a4f923"
   },
   "outputs": [
    {
     "name": "stdout",
     "output_type": "stream",
     "text": [
      "Shape of tensor: torch.Size([3, 4])\n",
      "Datatype of tensor: torch.float32\n",
      "Device tensor is stored on: cpu\n"
     ]
    }
   ],
   "source": [
    "tensor = torch.rand(3,4)\n",
    "\n",
    "print(f\"Shape of tensor: {tensor.shape}\")\n",
    "print(f\"Datatype of tensor: {tensor.dtype}\")\n",
    "print(f\"Device tensor is stored on: {tensor.device}\")"
   ]
  },
  {
   "cell_type": "markdown",
   "metadata": {
    "id": "y2KZ33q84dE0"
   },
   "source": [
    "--------------\n",
    "\n",
    "\n"
   ]
  },
  {
   "cell_type": "markdown",
   "metadata": {
    "id": "6oULsJFy4dE0"
   },
   "source": [
    "Tensor Operations\n",
    "~~~~~~~~~~~~~~~~~\n",
    "\n",
    "Over 100 tensor operations, including transposing, indexing, slicing,\n",
    "mathematical operations, linear algebra, random sampling, and more are\n",
    "comprehensively described\n",
    "`here <https://pytorch.org/docs/stable/torch.html>`__.\n",
    "\n",
    "Each of them can be run on the GPU (at typically higher speeds than on a\n",
    "CPU). If you’re using Colab, allocate a GPU by going to Edit > Notebook\n",
    "Settings.\n",
    "\n",
    "\n"
   ]
  },
  {
   "cell_type": "code",
   "execution_count": 8,
   "metadata": {
    "id": "DaniUxNY4dE1"
   },
   "outputs": [],
   "source": [
    "# We move our tensor to the GPU if available\n",
    "if torch.cuda.is_available():\n",
    "  tensor = tensor.to('cuda')"
   ]
  },
  {
   "cell_type": "code",
   "execution_count": 9,
   "metadata": {
    "colab": {
     "base_uri": "https://localhost:8080/"
    },
    "id": "453HnI8zGSwD",
    "outputId": "a42443b1-8b26-463e-cc89-d7a4ebd5dc2f"
   },
   "outputs": [
    {
     "name": "stdout",
     "output_type": "stream",
     "text": [
      "tensor([[0.6412, 0.5143, 0.1102, 0.7967],\n",
      "        [0.8314, 0.9613, 0.2736, 0.2489],\n",
      "        [0.5116, 0.5688, 0.1975, 0.7529]])\n"
     ]
    }
   ],
   "source": [
    "print(tensor)"
   ]
  },
  {
   "cell_type": "markdown",
   "metadata": {
    "id": "KwJ3pVRh4dE1"
   },
   "source": [
    "Try out some of the operations from the list.\n",
    "If you're familiar with the NumPy API, you'll find the Tensor API a breeze to use.\n",
    "\n",
    "\n"
   ]
  },
  {
   "cell_type": "markdown",
   "metadata": {
    "id": "yHwEXhyf4dE1"
   },
   "source": [
    "**Standard numpy-like indexing and slicing:**\n",
    "\n"
   ]
  },
  {
   "cell_type": "code",
   "execution_count": 10,
   "metadata": {
    "colab": {
     "base_uri": "https://localhost:8080/"
    },
    "id": "LdB3fJ6e4dE1",
    "outputId": "010a247f-45d5-4a1d-bfa0-2733d69aea4a"
   },
   "outputs": [
    {
     "name": "stdout",
     "output_type": "stream",
     "text": [
      "tensor([[1., 0., 1., 1.],\n",
      "        [1., 0., 1., 1.],\n",
      "        [1., 0., 1., 1.],\n",
      "        [1., 0., 1., 1.]])\n"
     ]
    }
   ],
   "source": [
    "tensor = torch.ones(4, 4)\n",
    "tensor[:,1] = 0\n",
    "print(tensor)"
   ]
  },
  {
   "cell_type": "markdown",
   "metadata": {
    "id": "TI1wweQk4dE1"
   },
   "source": [
    "**Joining tensors** You can use ``torch.cat`` to concatenate a sequence of tensors along a given dimension.\n",
    "See also `torch.stack <https://pytorch.org/docs/stable/generated/torch.stack.html>`__,\n",
    "another tensor joining op that is subtly different from ``torch.cat``.\n",
    "\n"
   ]
  },
  {
   "cell_type": "code",
   "execution_count": 11,
   "metadata": {
    "colab": {
     "base_uri": "https://localhost:8080/"
    },
    "id": "VhYVVizS4dE2",
    "outputId": "10e0fa28-a6f0-4524-d8ec-e5207cd3e36c"
   },
   "outputs": [
    {
     "name": "stdout",
     "output_type": "stream",
     "text": [
      "tensor([[1., 0., 1., 1., 1., 0., 1., 1., 1., 0., 1., 1.],\n",
      "        [1., 0., 1., 1., 1., 0., 1., 1., 1., 0., 1., 1.],\n",
      "        [1., 0., 1., 1., 1., 0., 1., 1., 1., 0., 1., 1.],\n",
      "        [1., 0., 1., 1., 1., 0., 1., 1., 1., 0., 1., 1.]])\n"
     ]
    }
   ],
   "source": [
    "t1 = torch.cat([tensor, tensor, tensor], dim=1)\n",
    "print(t1)"
   ]
  },
  {
   "cell_type": "markdown",
   "metadata": {
    "id": "6rGcWPN64dE2"
   },
   "source": [
    "**Multiplying tensors**\n",
    "\n"
   ]
  },
  {
   "cell_type": "code",
   "execution_count": 12,
   "metadata": {
    "colab": {
     "base_uri": "https://localhost:8080/"
    },
    "id": "5TvoCGDz4dE2",
    "outputId": "c9e1d557-7078-4a40-ed7c-31a7e86a3232"
   },
   "outputs": [
    {
     "name": "stdout",
     "output_type": "stream",
     "text": [
      "tensor.mul(tensor) \n",
      " tensor([[4., 4., 4., 4.],\n",
      "        [4., 4., 4., 4.],\n",
      "        [4., 4., 4., 4.],\n",
      "        [4., 4., 4., 4.]]) \n",
      "\n",
      "tensor * tensor \n",
      " tensor([[4., 4., 4., 4.],\n",
      "        [4., 4., 4., 4.],\n",
      "        [4., 4., 4., 4.],\n",
      "        [4., 4., 4., 4.]])\n"
     ]
    }
   ],
   "source": [
    "tensor = torch.ones(4, 4)\n",
    "tensor = 2*tensor\n",
    "# This computes the element-wise product\n",
    "print(f\"tensor.mul(tensor) \\n {tensor.mul(tensor)} \\n\")\n",
    "# Alternative syntax:\n",
    "print(f\"tensor * tensor \\n {tensor * tensor}\")"
   ]
  },
  {
   "cell_type": "markdown",
   "metadata": {
    "id": "dWHBIXIq4dE2"
   },
   "source": [
    "This computes the matrix multiplication between two tensors\n",
    "\n"
   ]
  },
  {
   "cell_type": "code",
   "execution_count": 13,
   "metadata": {
    "colab": {
     "base_uri": "https://localhost:8080/"
    },
    "id": "nF8wfvdw4dE2",
    "outputId": "8f4bfb5c-fb78-4172-e0e2-24c7876fee4d"
   },
   "outputs": [
    {
     "name": "stdout",
     "output_type": "stream",
     "text": [
      "tensor([[0.5552, 0.2926, 0.5876, 0.8109, 0.8912],\n",
      "        [0.7804, 0.1743, 0.2813, 0.5321, 0.9135]])\n",
      "tensor.matmul(tensor.T) \n",
      " tensor([[2.1909, 1.8951],\n",
      "        [1.8951, 1.8360]]) \n",
      "\n",
      "tensor @ tensor.T \n",
      " tensor([[2.1909, 1.8951],\n",
      "        [1.8951, 1.8360]])\n"
     ]
    }
   ],
   "source": [
    "tensor = torch.rand((2,5))\n",
    "print(tensor)\n",
    "print(f\"tensor.matmul(tensor.T) \\n {tensor.matmul(tensor.T)} \\n\")\n",
    "# Alternative syntax:\n",
    "print(f\"tensor @ tensor.T \\n {tensor @ tensor.T}\")"
   ]
  },
  {
   "cell_type": "markdown",
   "metadata": {
    "id": "5XNjhbpEJo6h"
   },
   "source": [
    "**Tensor Projecting** PyTorch will automaticall infer how to handle some operations when tensor sizes don't match up perfectly. In this example you can multiply a scalar, a row matrix, or a column matrix by a 2d matrix and get the same result. This is both a feature and a potential hassle because it can hide bugs if you aren't careful!"
   ]
  },
  {
   "cell_type": "code",
   "execution_count": null,
   "metadata": {
    "colab": {
     "base_uri": "https://localhost:8080/"
    },
    "id": "pxkQj07gJC05",
    "outputId": "aedc2d08-aead-4e75-f884-b805b0067876"
   },
   "outputs": [
    {
     "name": "stdout",
     "output_type": "stream",
     "text": [
      "tensor([[2., 2.],\n",
      "        [2., 2.],\n",
      "        [2., 2.],\n",
      "        [2., 2.]])\n",
      "tensor([[2., 2.],\n",
      "        [2., 2.],\n",
      "        [2., 2.],\n",
      "        [2., 2.]])\n",
      "tensor([[2., 2.],\n",
      "        [2., 2.],\n",
      "        [2., 2.],\n",
      "        [2., 2.]])\n",
      "tensor([[4., 4.],\n",
      "        [4., 4.],\n",
      "        [4., 4.],\n",
      "        [4., 4.]])\n",
      "tensor([[4., 4.],\n",
      "        [4., 4.],\n",
      "        [4., 4.],\n",
      "        [4., 4.]])\n",
      "tensor([[1., 1.],\n",
      "        [1., 1.],\n",
      "        [1., 1.],\n",
      "        [1., 1.]])\n"
     ]
    }
   ],
   "source": [
    "tones = torch.ones(4,2)\n",
    "ttwos = 2 * tones\n",
    "tworow = 2 * torch.ones(1,2)\n",
    "twocol = 2 * torch.ones(4,1)\n",
    "ttwos2 = tones * tworow\n",
    "ttwos3 = tones * twocol\n",
    "\n",
    "\n",
    "print(ttwos)\n",
    "print(ttwos2)\n",
    "print(ttwos3)\n",
    "\n",
    "print(tworow * twocol)\n",
    "print(tworow + twocol)\n",
    "print(tworow / twocol)"
   ]
  },
  {
   "cell_type": "markdown",
   "metadata": {
    "id": "pKGF1ZLh8GXE"
   },
   "source": [
    "#Training a Neural Network in PyTorch#\n",
    "\n",
    "PyTorch is a powerful, widely-used machine learning library. It has all the latest neural network layers and functions and supports GPU computation.\n",
    "\n",
    "Most neural network research these days either happens in PyTorch or TensorFlow. Google Research develops TensorFlow while Facebook AI Research develops PyTorch. Functionally they are probably very similar, I just know a lot of people who use PyTorch and it seems like it might be somewhat easier for beginners to learn. It is important to have some experience in one of these two frameworks but if you understand the ideas and concepts you shouldn't have too much trouble moving between them.\n",
    "\n",
    "The `torch` library provides the basic functions we need when dealing with `tensors`. `tensors` are a generalization of matrices to arbirtrary numbers of dimensions (a matrix is a 2D tensor). Types of tensors:\n",
    "\n",
    "\n",
    "*   0 dimensional: Scalar\n",
    "*   1 dimensional: Array\n",
    "*   2 dimensional: Matrix\n",
    "*   3 dimensional: Number cubey thingy\n",
    "*   4 dimensional: ?????\n",
    "\n",
    "Anywho, let's start with our opening chant to invoke the power of PyTorch to aid us. The last line is a special call to the GPU gods to smile on our endeavor.\n"
   ]
  },
  {
   "cell_type": "code",
   "execution_count": 14,
   "metadata": {
    "colab": {
     "base_uri": "https://localhost:8080/"
    },
    "id": "ehrybK-XPJrr",
    "outputId": "c60034ea-f340-44f0-8cee-3cdd0e018c97"
   },
   "outputs": [
    {
     "name": "stdout",
     "output_type": "stream",
     "text": [
      "cpu\n"
     ]
    }
   ],
   "source": [
    "import torch\n",
    "import torchvision\n",
    "import torchvision.transforms as transforms\n",
    "\n",
    "device = torch.device(\"cuda:0\" if torch.cuda.is_available() else \"cpu\")\n",
    "print(device)"
   ]
  },
  {
   "cell_type": "markdown",
   "metadata": {
    "id": "T7rPSRhhBoQc"
   },
   "source": [
    "##Time For Some Data##\n",
    "\n",
    "PyTorch has some built tools for downloading and loading common datasets. We'll be playing around with MNIST in this example. It is a dataset of 28x28 grayscale handwritten digits 0-9. There are 60,000 images in the training set and 10,000 in the test set.\n",
    "\n"
   ]
  },
  {
   "cell_type": "code",
   "execution_count": 15,
   "metadata": {
    "id": "iMUkulSBTNwo"
   },
   "outputs": [
    {
     "name": "stdout",
     "output_type": "stream",
     "text": [
      "Downloading http://yann.lecun.com/exdb/mnist/train-images-idx3-ubyte.gz\n",
      "Downloading http://yann.lecun.com/exdb/mnist/train-images-idx3-ubyte.gz to ./data\\MNIST\\raw\\train-images-idx3-ubyte.gz\n"
     ]
    },
    {
     "name": "stderr",
     "output_type": "stream",
     "text": [
      "100%|██████████████████████████████████████████████████████████████████| 9912422/9912422 [00:00<00:00, 53884352.15it/s]\n"
     ]
    },
    {
     "name": "stdout",
     "output_type": "stream",
     "text": [
      "Extracting ./data\\MNIST\\raw\\train-images-idx3-ubyte.gz to ./data\\MNIST\\raw\n",
      "\n",
      "Downloading http://yann.lecun.com/exdb/mnist/train-labels-idx1-ubyte.gz\n",
      "Downloading http://yann.lecun.com/exdb/mnist/train-labels-idx1-ubyte.gz to ./data\\MNIST\\raw\\train-labels-idx1-ubyte.gz\n"
     ]
    },
    {
     "name": "stderr",
     "output_type": "stream",
     "text": [
      "100%|██████████████████████████████████████████████████████████████████████| 28881/28881 [00:00<00:00, 14364484.03it/s]"
     ]
    },
    {
     "name": "stdout",
     "output_type": "stream",
     "text": [
      "Extracting ./data\\MNIST\\raw\\train-labels-idx1-ubyte.gz to ./data\\MNIST\\raw\n",
      "\n",
      "Downloading http://yann.lecun.com/exdb/mnist/t10k-images-idx3-ubyte.gz\n"
     ]
    },
    {
     "name": "stderr",
     "output_type": "stream",
     "text": [
      "\n"
     ]
    },
    {
     "name": "stdout",
     "output_type": "stream",
     "text": [
      "Downloading http://yann.lecun.com/exdb/mnist/t10k-images-idx3-ubyte.gz to ./data\\MNIST\\raw\\t10k-images-idx3-ubyte.gz\n"
     ]
    },
    {
     "name": "stderr",
     "output_type": "stream",
     "text": [
      "100%|██████████████████████████████████████████████████████████████████| 1648877/1648877 [00:00<00:00, 19176664.32it/s]"
     ]
    },
    {
     "name": "stdout",
     "output_type": "stream",
     "text": [
      "Extracting ./data\\MNIST\\raw\\t10k-images-idx3-ubyte.gz to ./data\\MNIST\\raw\n",
      "\n",
      "Downloading http://yann.lecun.com/exdb/mnist/t10k-labels-idx1-ubyte.gz\n"
     ]
    },
    {
     "name": "stderr",
     "output_type": "stream",
     "text": [
      "\n"
     ]
    },
    {
     "name": "stdout",
     "output_type": "stream",
     "text": [
      "Downloading http://yann.lecun.com/exdb/mnist/t10k-labels-idx1-ubyte.gz to ./data\\MNIST\\raw\\t10k-labels-idx1-ubyte.gz\n"
     ]
    },
    {
     "name": "stderr",
     "output_type": "stream",
     "text": [
      "100%|█████████████████████████████████████████████████████████████████████████| 4542/4542 [00:00<00:00, 4395599.62it/s]"
     ]
    },
    {
     "name": "stdout",
     "output_type": "stream",
     "text": [
      "Extracting ./data\\MNIST\\raw\\t10k-labels-idx1-ubyte.gz to ./data\\MNIST\\raw\n",
      "\n"
     ]
    },
    {
     "name": "stderr",
     "output_type": "stream",
     "text": [
      "\n"
     ]
    }
   ],
   "source": [
    "def get_mnist_data():\n",
    "  trainset = torchvision.datasets.MNIST(root='./data', train=True, download=True,\n",
    "                                        transform=transforms.ToTensor())\n",
    "  trainloader = torch.utils.data.DataLoader(trainset, batch_size=32, shuffle=True,\n",
    "                                            num_workers=2)\n",
    "\n",
    "  testset = torchvision.datasets.MNIST(root='./data', train=False, download=True,\n",
    "                                      transform=transforms.ToTensor())\n",
    "  testloader = torch.utils.data.DataLoader(testset, batch_size=32, shuffle=False,\n",
    "                                          num_workers=2)\n",
    "  classes = range(10)\n",
    "  return {'train': trainloader, 'test': testloader, 'classes': classes}\n",
    "\n",
    "data = get_mnist_data()"
   ]
  },
  {
   "cell_type": "code",
   "execution_count": 16,
   "metadata": {
    "colab": {
     "base_uri": "https://localhost:8080/"
    },
    "id": "IvisX4HgTn8v",
    "outputId": "118a2d0b-ec9c-4f1a-ef65-f5b5d73f9ecd"
   },
   "outputs": [
    {
     "name": "stdout",
     "output_type": "stream",
     "text": [
      "{'dataset': Dataset MNIST\n",
      "    Number of datapoints: 60000\n",
      "    Root location: ./data\n",
      "    Split: Train\n",
      "    StandardTransform\n",
      "Transform: ToTensor(), 'num_workers': 2, 'prefetch_factor': 2, 'pin_memory': False, 'pin_memory_device': '', 'timeout': 0, 'worker_init_fn': None, '_DataLoader__multiprocessing_context': None, '_dataset_kind': 0, 'batch_size': 32, 'drop_last': False, 'sampler': <torch.utils.data.sampler.RandomSampler object at 0x00000195594C9690>, 'batch_sampler': <torch.utils.data.sampler.BatchSampler object at 0x00000195594F3110>, 'generator': None, 'collate_fn': <function default_collate at 0x0000019555FC2D40>, 'persistent_workers': False, '_DataLoader__initialized': True, '_IterableDataset_len_called': None, '_iterator': None}\n"
     ]
    }
   ],
   "source": [
    "print(data['train'].__dict__)"
   ]
  },
  {
   "cell_type": "markdown",
   "metadata": {
    "id": "xI_PZ2Pus5cF"
   },
   "source": [
    "###Understanding Our Data ###\n",
    "It's worthwhile to check out how our dataloader loads the images into tensors. We can print out the size of the loaded data in the `images` tensors.\n",
    "\n"
   ]
  },
  {
   "cell_type": "code",
   "execution_count": 18,
   "metadata": {
    "colab": {
     "base_uri": "https://localhost:8080/"
    },
    "id": "P1HO7vN-T5P4",
    "outputId": "dfafd7a3-9f0f-4871-b725-03425062f115"
   },
   "outputs": [
    {
     "name": "stdout",
     "output_type": "stream",
     "text": [
      "torch.Size([32, 1, 28, 28])\n"
     ]
    }
   ],
   "source": [
    "# get some random training images\n",
    "import torch\n",
    "from torch.utils.data import DataLoader\n",
    "\n",
    "# Get a batch of random training data\n",
    "dataiter = iter(data['train'])\n",
    "images, labels = next(dataiter)\n",
    "\n",
    "print(images.size())"
   ]
  },
  {
   "cell_type": "markdown",
   "metadata": {
    "id": "C2h61JjW7rh1"
   },
   "source": [
    "Our `images` tensor is 4-dimensional, (32 x 1 x 28 x 28)\n",
    "\n",
    "PyTorch stores image data in (N x C x H x W) format. Thus the size of this tensor implies we have a mini-batch of 32 images, each have a single channel (grayscale), and each image is 28 x 28, so that makes sense!\n",
    "\n",
    "We can use matplotlib to see what our data looks like:"
   ]
  },
  {
   "cell_type": "code",
   "execution_count": 19,
   "metadata": {
    "colab": {
     "base_uri": "https://localhost:8080/",
     "height": 270
    },
    "id": "E42h6plq63Ar",
    "outputId": "aba3cba8-bbed-4994-d2a5-6757a073b874"
   },
   "outputs": [
    {
     "data": {
      "image/png": "[encoded data removed]",
      "text/plain": [
       "<Figure size 640x480 with 1 Axes>"
      ]
     },
     "metadata": {},
     "output_type": "display_data"
    },
    {
     "name": "stdout",
     "output_type": "stream",
     "text": [
      "Labels:        5         2         2         3         3         6         4         8\n",
      "torch.Size([32, 1, 28, 28])\n",
      "torch.Size([32, 784])\n"
     ]
    }
   ],
   "source": [
    "import matplotlib.pyplot as plt\n",
    "import numpy as np\n",
    "\n",
    "def imshow(img):\n",
    "    npimg = img.numpy()\n",
    "    plt.imshow(np.transpose(npimg, (1, 2, 0)))\n",
    "    plt.show()\n",
    "\n",
    "# show images\n",
    "imshow(torchvision.utils.make_grid(images))\n",
    "# print labels\n",
    "print(\"Labels:\" + ' '.join('%9s' % data['classes'][labels[j]] for j in range(8)))\n",
    "\n",
    "\n",
    "flat = torch.flatten(images, 1)\n",
    "print(images.size())\n",
    "print(flat.size())\n"
   ]
  },
  {
   "cell_type": "markdown",
   "metadata": {
    "id": "0z2Zs4W74Rcv"
   },
   "source": [
    "##A Simple Network##\n",
    "\n",
    "First we'll build a very basic neural network with a single hidden layer of neurons. This means one fully connected layer of weights connects the input to the hidden neurons and one fully connected layer connects the hidden neurons to the output. We'll use the RELU activation function on the hidden neuron values as our nonlinearity.\n",
    "\n",
    "These fully connected (or `nn.Linear`) layers expect a 2D input tensor where that is N x I where N is the number of data points in a mini batch and I is the number of inputs. However, our data is formatted in (N x C x H x W) right now so we need to tell PyTorch to rearrange it using `torch.flatten`.\n",
    "\n",
    "After being `flatten`ed our data goes from (32 x 1 x 28 x 28) to being (32 x 784)"
   ]
  },
  {
   "cell_type": "code",
   "execution_count": 20,
   "metadata": {
    "id": "RfglkbNyVLQY"
   },
   "outputs": [],
   "source": [
    "import torch.nn as nn\n",
    "import torch.nn.functional as F\n",
    "\n",
    "\n",
    "class SimpleNet(nn.Module):\n",
    "    def __init__(self, inputs=28*28, hidden=512, outputs=10):\n",
    "        super(SimpleNet, self).__init__()\n",
    "        self.fc1 = nn.Linear(inputs, hidden)\n",
    "        self.fc2 = nn.Linear(hidden, outputs)\n",
    "\n",
    "    def forward(self, x):\n",
    "        x = torch.flatten(x, 1)\n",
    "        x = self.fc1(x)\n",
    "        x = F.relu(x)  # activaction function: 92.4% -> 98.6% accuracy\n",
    "        x = self.fc2(x)\n",
    "        return x\n"
   ]
  },
  {
   "cell_type": "markdown",
   "metadata": {
    "id": "cBv5uxRHrdH_"
   },
   "source": [
    "###The Training Function ###\n",
    "\n",
    "Now for training our network. Our `train` function takes as input the `net` to train and the `dataloader` for the training data. It also takes some optional parameters to control training.\n",
    "\n",
    "For our network we'll be using PyTorch's built in `nn.CrossEntropyLoss`. This will apply a softmax to our network's output, calculate the log-probability assigned to each class, then try to minimize the negative log likelihood of our data (AKA maximize the likelihood)\n",
    "\n",
    "For our optimizer we are using stochastic gradient descent with learning rate, momentum, and decay parameters."
   ]
  },
  {
   "cell_type": "code",
   "execution_count": 21,
   "metadata": {
    "id": "XrzP3OzSWLnV"
   },
   "outputs": [],
   "source": [
    "import torch.optim as optim\n",
    "\n",
    "def train(net, dataloader, epochs=1, lr=0.01, momentum=0.9, decay=0.0, verbose=1):\n",
    "  net.to(device)\n",
    "  losses = []\n",
    "  criterion = nn.CrossEntropyLoss() # combination of a softmax operation + log likelihood maximization\n",
    "  optimizer = optim.SGD(net.parameters(), lr=lr, momentum=momentum, weight_decay=decay)\n",
    "  for epoch in range(epochs):\n",
    "    sum_loss = 0.0\n",
    "    for i, batch in enumerate(dataloader, 0):\n",
    "        # get the inputs; data is a list of [inputs, labels]\n",
    "        inputs, labels = batch[0].to(device), batch[1].to(device)\n",
    "\n",
    "        # zero the parameter gradients\n",
    "        optimizer.zero_grad()\n",
    "\n",
    "        # forward + backward + optimize \n",
    "        outputs = net(inputs)\n",
    "        loss = criterion(outputs, labels)\n",
    "        loss.backward()  # autograd magic, computes all the partial derivatives\n",
    "        optimizer.step() # takes a step in gradient direction\n",
    "\n",
    "        # print statistics\n",
    "        losses.append(loss.item())\n",
    "        sum_loss += loss.item()\n",
    "        if i % 100 == 99:    # print every 100 mini-batches\n",
    "            if verbose:\n",
    "              print('[%d, %5d] loss: %.3f' %\n",
    "                  (epoch + 1, i + 1, sum_loss / 100))\n",
    "            sum_loss = 0.0\n",
    "  return losses"
   ]
  },
  {
   "cell_type": "markdown",
   "metadata": {
    "id": "7PQs_ofgwmCt"
   },
   "source": [
    "###Training The Network###\n",
    "\n",
    "We'll instantiate a new network and train it on our training data.\n",
    "\n",
    "Our training function prints out some debug information about the epoch, batch number, and current loss values. It also returns a list of all the losses on our mini-batches so we can plot them all once training has finished."
   ]
  },
  {
   "cell_type": "code",
   "execution_count": 22,
   "metadata": {
    "colab": {
     "base_uri": "https://localhost:8080/",
     "height": 580
    },
    "id": "ZnniOt6IsJjo",
    "outputId": "0f59b34e-3ae3-4058-8913-43d495c6a9d6"
   },
   "outputs": [
    {
     "name": "stdout",
     "output_type": "stream",
     "text": [
      "[1,   100] loss: 1.361\n",
      "[1,   200] loss: 0.516\n",
      "[1,   300] loss: 0.394\n",
      "[1,   400] loss: 0.357\n",
      "[1,   500] loss: 0.361\n",
      "[1,   600] loss: 0.316\n",
      "[1,   700] loss: 0.311\n",
      "[1,   800] loss: 0.282\n",
      "[1,   900] loss: 0.276\n",
      "[1,  1000] loss: 0.294\n",
      "[1,  1100] loss: 0.258\n",
      "[1,  1200] loss: 0.244\n",
      "[1,  1300] loss: 0.243\n",
      "[1,  1400] loss: 0.238\n",
      "[1,  1500] loss: 0.231\n",
      "[1,  1600] loss: 0.212\n",
      "[1,  1700] loss: 0.210\n",
      "[1,  1800] loss: 0.207\n"
     ]
    },
    {
     "data": {
      "text/plain": [
       "[<matplotlib.lines.Line2D at 0x1955e27db10>]"
      ]
     },
     "execution_count": 22,
     "metadata": {},
     "output_type": "execute_result"
    },
    {
     "data": {
      "image/png": "[encoded data removed]",
      "text/plain": [
       "<Figure size 640x480 with 1 Axes>"
      ]
     },
     "metadata": {},
     "output_type": "display_data"
    }
   ],
   "source": [
    "net = SimpleNet()\n",
    "\n",
    "losses = train(net, data['train'])\n",
    "plt.plot(losses)"
   ]
  },
  {
   "cell_type": "markdown",
   "metadata": {
    "id": "AbQR1GAlzqQt"
   },
   "source": [
    "##Testing The Network##\n",
    "\n",
    "We trained our network! The loss went down! That's good, right? But how good is our network, exactly?\n",
    "\n",
    "Well, we can try running our network on a few of our test images and see what happens:"
   ]
  },
  {
   "cell_type": "code",
   "execution_count": 24,
   "metadata": {
    "colab": {
     "base_uri": "https://localhost:8080/",
     "height": 172
    },
    "id": "jRnA3phakd4j",
    "outputId": "3a18380c-c908-4d83-e46e-de689d7eda3a"
   },
   "outputs": [
    {
     "data": {
      "image/png": "[encoded data removed]",
      "text/plain": [
       "<Figure size 640x480 with 1 Axes>"
      ]
     },
     "metadata": {},
     "output_type": "display_data"
    },
    {
     "name": "stdout",
     "output_type": "stream",
     "text": [
      "GroundTruth:      7     2     1     0\n",
      "Predicted:      7     2     1     0\n"
     ]
    }
   ],
   "source": [
    "dataiter = iter(data['test'])\n",
    "images, labels = next(dataiter)\n",
    "\n",
    "images = images[:4]\n",
    "labels = labels[:4]\n",
    "\n",
    "# print images\n",
    "imshow(torchvision.utils.make_grid(images))\n",
    "print('GroundTruth: ', ' '.join('%5s' % data['classes'][labels[j]] for j in range(4)))\n",
    "outputs = net(images.to(device))\n",
    "_, predicted = torch.max(outputs, 1)\n",
    "\n",
    "print('Predicted: ', ' '.join('%5s' % data['classes'][predicted[j]]\n",
    "                              for j in range(4)))"
   ]
  },
  {
   "cell_type": "markdown",
   "metadata": {
    "id": "UvR8TTs-z8Cc"
   },
   "source": [
    "Pretty good so far. But we also want to be able to test the network on all of our data. Here's a function that can do just that, computing the accuracy on a full set of data:"
   ]
  },
  {
   "cell_type": "code",
   "execution_count": 25,
   "metadata": {
    "id": "7TNFVUA3mpJr"
   },
   "outputs": [],
   "source": [
    "def accuracy(net, dataloader):\n",
    "  correct = 0\n",
    "  total = 0\n",
    "  with torch.no_grad():\n",
    "      for batch in dataloader:\n",
    "          images, labels = batch[0].to(device), batch[1].to(device)\n",
    "          outputs = net(images)\n",
    "          _, predicted = torch.max(outputs.data, 1)\n",
    "          total += labels.size(0)\n",
    "          correct += (predicted == labels).sum().item()\n",
    "  return correct/total"
   ]
  },
  {
   "cell_type": "markdown",
   "metadata": {
    "id": "_usQ2gGR01j0"
   },
   "source": [
    "Now we can give it a try:"
   ]
  },
  {
   "cell_type": "code",
   "execution_count": 27,
   "metadata": {
    "colab": {
     "base_uri": "https://localhost:8080/"
    },
    "id": "MEl-HH83020a",
    "outputId": "97226efb-9dca-4591-e854-2011a476a199"
   },
   "outputs": [
    {
     "name": "stdout",
     "output_type": "stream",
     "text": [
      "Current accuracy: 0.948350\n"
     ]
    }
   ],
   "source": [
    "print(\"Current accuracy: %f\" % accuracy(net, data['train']))"
   ]
  },
  {
   "cell_type": "code",
   "execution_count": 28,
   "metadata": {
    "colab": {
     "base_uri": "https://localhost:8080/"
    },
    "id": "0dxRd1CJyB5C",
    "outputId": "157ea89b-fa18-44f2-fe75-68c6a993617d"
   },
   "outputs": [
    {
     "name": "stdout",
     "output_type": "stream",
     "text": [
      "Current accuracy: 0.948600\n"
     ]
    }
   ],
   "source": [
    "print(\"Current accuracy: %f\" % accuracy(net, data['test']))"
   ]
  },
  {
   "cell_type": "markdown",
   "metadata": {
    "id": "3gIXV-es1T7C"
   },
   "source": [
    "##Experiments##\n",
    "\n",
    "Now it's time to poke around a little bit with our models. First I just want this utility function to do window smoothing of data for us. As you may have noticed, we are doing *stochastic* gradient descent, so our losses for each mini-batch can vary quite dramatically. If we smooth them out a little bit they will be easier to look at when we plot them."
   ]
  },
  {
   "cell_type": "code",
   "execution_count": 29,
   "metadata": {
    "id": "Zq0AprMN30cS"
   },
   "outputs": [],
   "source": [
    "def smooth(x, size):\n",
    "  return np.convolve(x, np.ones(size)/size, mode='same')"
   ]
  },
  {
   "cell_type": "markdown",
   "metadata": {
    "id": "TdHueTHS7ClZ"
   },
   "source": [
    "###Learning Rate###\n",
    "\n",
    "Let's experiment around with the learning rate of our model. Changing the learning rate should affect how fast our model converges and how accurate it is. We can see the effect when we plot out the loss function over time for models with different learning rates:"
   ]
  },
  {
   "cell_type": "code",
   "execution_count": 30,
   "metadata": {
    "colab": {
     "base_uri": "https://localhost:8080/",
     "height": 1000
    },
    "id": "lC3gB5j61j2Z",
    "outputId": "3d8b664e-7af4-4bd7-bc46-56394bbba8f7"
   },
   "outputs": [
    {
     "name": "stdout",
     "output_type": "stream",
     "text": [
      "[1,   100] loss: 0.781\n",
      "[1,   200] loss: 0.393\n",
      "[1,   300] loss: 0.317\n",
      "[1,   400] loss: 0.290\n",
      "[1,   500] loss: 0.238\n",
      "[1,   600] loss: 0.208\n",
      "[1,   700] loss: 0.226\n",
      "[1,   800] loss: 0.191\n",
      "[1,   900] loss: 0.218\n",
      "[1,  1000] loss: 0.169\n",
      "[1,  1100] loss: 0.181\n",
      "[1,  1200] loss: 0.211\n",
      "[1,  1300] loss: 0.190\n",
      "[1,  1400] loss: 0.178\n",
      "[1,  1500] loss: 0.141\n",
      "[1,  1600] loss: 0.181\n",
      "[1,  1700] loss: 0.133\n",
      "[1,  1800] loss: 0.188\n",
      "[1,   100] loss: 1.358\n",
      "[1,   200] loss: 0.473\n",
      "[1,   300] loss: 0.418\n",
      "[1,   400] loss: 0.387\n",
      "[1,   500] loss: 0.344\n",
      "[1,   600] loss: 0.330\n",
      "[1,   700] loss: 0.302\n",
      "[1,   800] loss: 0.281\n",
      "[1,   900] loss: 0.276\n",
      "[1,  1000] loss: 0.279\n",
      "[1,  1100] loss: 0.245\n",
      "[1,  1200] loss: 0.238\n",
      "[1,  1300] loss: 0.250\n",
      "[1,  1400] loss: 0.226\n",
      "[1,  1500] loss: 0.222\n",
      "[1,  1600] loss: 0.214\n",
      "[1,  1700] loss: 0.219\n",
      "[1,  1800] loss: 0.225\n",
      "[1,   100] loss: 2.212\n",
      "[1,   200] loss: 1.978\n",
      "[1,   300] loss: 1.661\n",
      "[1,   400] loss: 1.346\n",
      "[1,   500] loss: 1.089\n",
      "[1,   600] loss: 0.902\n",
      "[1,   700] loss: 0.791\n",
      "[1,   800] loss: 0.680\n",
      "[1,   900] loss: 0.635\n",
      "[1,  1000] loss: 0.595\n",
      "[1,  1100] loss: 0.557\n",
      "[1,  1200] loss: 0.525\n",
      "[1,  1300] loss: 0.494\n",
      "[1,  1400] loss: 0.479\n",
      "[1,  1500] loss: 0.444\n",
      "[1,  1600] loss: 0.456\n",
      "[1,  1700] loss: 0.440\n",
      "[1,  1800] loss: 0.429\n",
      "0.9535 0.9475 0.8947\n"
     ]
    },
    {
     "data": {
      "image/png": "[encoded data removed]",
      "text/plain": [
       "<Figure size 640x480 with 1 Axes>"
      ]
     },
     "metadata": {},
     "output_type": "display_data"
    }
   ],
   "source": [
    "net_high = SimpleNet()\n",
    "losses_high = train(net_high, data['train'], lr=.1, verbose=1)\n",
    "acc_high = accuracy(net_high, data['test'])\n",
    "plt.plot(smooth(losses_high,20), 'r-')\n",
    "\n",
    "\n",
    "net_mid = SimpleNet()\n",
    "losses_mid = train(net_mid, data['train'], lr=.01, verbose=1)\n",
    "acc_mid = accuracy(net_mid, data['test'])\n",
    "plt.plot(smooth(losses_mid,20), 'b-')\n",
    "\n",
    "\n",
    "net_low = SimpleNet()\n",
    "losses_low = train(net_low, data['train'], lr=.001, verbose=1)\n",
    "acc_low = accuracy(net_low, data['test'])\n",
    "plt.plot(smooth(losses_low,20), 'g-')\n",
    "\n",
    "print(acc_high, acc_mid, acc_low)"
   ]
  },
  {
   "cell_type": "code",
   "execution_count": 31,
   "metadata": {
    "colab": {
     "base_uri": "https://localhost:8080/",
     "height": 580
    },
    "id": "buEFgBwNzjTX",
    "outputId": "199ce905-6514-4297-e20e-58e80de5295e"
   },
   "outputs": [
    {
     "name": "stdout",
     "output_type": "stream",
     "text": [
      "[1,   100] loss: 2.313\n",
      "[1,   200] loss: 2.311\n",
      "[1,   300] loss: 2.310\n",
      "[1,   400] loss: 2.305\n",
      "[1,   500] loss: 2.307\n",
      "[1,   600] loss: 2.304\n",
      "[1,   700] loss: 2.302\n",
      "[1,   800] loss: 2.298\n",
      "[1,   900] loss: 2.295\n",
      "[1,  1000] loss: 2.292\n",
      "[1,  1100] loss: 2.289\n",
      "[1,  1200] loss: 2.290\n",
      "[1,  1300] loss: 2.289\n",
      "[1,  1400] loss: 2.284\n",
      "[1,  1500] loss: 2.284\n",
      "[1,  1600] loss: 2.280\n",
      "[1,  1700] loss: 2.276\n",
      "[1,  1800] loss: 2.277\n",
      "0.1292\n"
     ]
    },
    {
     "data": {
      "image/png": "[encoded data removed]",
      "text/plain": [
       "<Figure size 640x480 with 1 Axes>"
      ]
     },
     "metadata": {},
     "output_type": "display_data"
    }
   ],
   "source": [
    "# Too High Learning Rate\n",
    "net = SimpleNet()\n",
    "\n",
    "losses = train(net, data['train'], lr = .00001)\n",
    "plt.plot(losses)\n",
    "print(accuracy(net, data['test']))"
   ]
  },
  {
   "cell_type": "markdown",
   "metadata": {
    "id": "-aM_X31X7gxf"
   },
   "source": [
    "###Momentum###\n",
    "\n",
    "We are using the default value for momentum of `0.9`. Fix your value for the learning rate and try varying the values for momentum.\n"
   ]
  },
  {
   "cell_type": "code",
   "execution_count": null,
   "metadata": {
    "id": "X5rsSpoP78KM"
   },
   "outputs": [],
   "source": [
    "#Write your code here for experimenting with different values of momentum."
   ]
  },
  {
   "cell_type": "markdown",
   "metadata": {
    "id": "weTQgPBE8GC-"
   },
   "source": [
    "###Weight Decay###\n",
    "\n",
    "Right now we aren't using any weight decay with our model. However, it can be useful as a method of regularization if we are worried about overfitting.\n"
   ]
  },
  {
   "cell_type": "code",
   "execution_count": null,
   "metadata": {
    "id": "Jywu7uy0aLa8"
   },
   "outputs": [],
   "source": [
    "#Write your code here for experimenting with different weight decay"
   ]
  },
  {
   "cell_type": "markdown",
   "metadata": {
    "id": "mKmBp4tMaYro"
   },
   "source": [
    "###A Bigger Model###\n",
    "\n",
    "Before we used a very simple model but now it's time to try adding some complexity. Create a network that takes as input the 28x28 image, 10 outputs, and any number of layers as long as it has fewer than 2,000,000 connections. Our simple network before had 784\\*512 + 512\\*10 = 406,528 connections.\n",
    "\n",
    "Use only fully connected (`nn.Linear`) layers (we'll get to other layer types soon). However, play around with different [activation functions](https://pytorch.org/docs/stable/nn.functional.html#non-linear-activation-functions), [losses](https://pytorch.org/docs/stable/nn.html#loss-functions), and hyperparameter settings. You can also try different training regimes. For example, you could try lowering the learning rate during training by calling our training method twice like this:\n",
    "\n",
    "    train(net, data['train'], epochs=5, lr=.1)\n",
    "    train(net, data['train'], epochs=3, lr=.01)\n",
    "    train(net, data['train'], epochs=2, lr=.001)\n",
    "\n",
    "Maybe it works better? Why did I choose those particular numbers? Who knows! It's deep learning, no one really knows what will work you have to just try things and see.\n",
    "\n",
    "Experiment with different network architectures and settings to get the most accurate model."
   ]
  },
  {
   "cell_type": "code",
   "execution_count": 32,
   "metadata": {
    "id": "J0yynxFmd0ss"
   },
   "outputs": [],
   "source": [
    "#Write your new model and experiments here\n",
    "\n",
    "class ExperiNet(nn.Module):\n",
    "    def __init__(self):\n",
    "        super(ExperiNet, self).__init__()\n",
    "        self.fc1 = nn.Linear(28*28, 512)\n",
    "        self.fc2 = nn.Linear(512, 10)\n",
    "\n",
    "    def forward(self, x):\n",
    "        x = torch.flatten(x, 1)\n",
    "        x = self.fc1(x)\n",
    "        x = F.relu(x)\n",
    "        x = self.fc2(x)\n",
    "        return x"
   ]
  }
 ],
 "metadata": {
  "accelerator": "GPU",
  "colab": {
   "provenance": []
  },
  "kernelspec": {
   "display_name": "Python 3 (ipykernel)",
   "language": "python",
   "name": "python3"
  },
  "language_info": {
   "codemirror_mode": {
    "name": "ipython",
    "version": 3
   },
   "file_extension": ".py",
   "mimetype": "text/x-python",
   "name": "python",
   "nbconvert_exporter": "python",
   "pygments_lexer": "ipython3",
   "version": "3.8.10"
  }
 },
 "nbformat": 4,
 "nbformat_minor": 1
}
